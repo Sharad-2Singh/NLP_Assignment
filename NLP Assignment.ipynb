{
 "cells": [
  {
   "cell_type": "markdown",
   "metadata": {},
   "source": [
    "# In this assignment students have to find the frequency of words in a webpage. User can use urllib and BeautifulSoup to extract text from webpage."
   ]
  },
  {
   "cell_type": "code",
   "execution_count": 3,
   "metadata": {},
   "outputs": [],
   "source": [
    "from bs4 import BeautifulSoup\n",
    "import urllib\n",
    "import nltk\n",
    "import requests\n",
    "import re"
   ]
  },
  {
   "cell_type": "code",
   "execution_count": 4,
   "metadata": {},
   "outputs": [],
   "source": [
    "response = urllib.request.urlopen('https://en.wikipedia.org/wiki/Avengers:_Endgame')\n",
    "html = response.read()\n",
    "raw = BeautifulSoup(html,\"html5lib\").get_text()"
   ]
  },
  {
   "cell_type": "code",
   "execution_count": 5,
   "metadata": {},
   "outputs": [
    {
     "name": "stderr",
     "output_type": "stream",
     "text": [
      "[nltk_data] Downloading package punkt to\n",
      "[nltk_data]     C:\\Users\\user\\AppData\\Roaming\\nltk_data...\n",
      "[nltk_data]   Unzipping tokenizers\\punkt.zip.\n"
     ]
    }
   ],
   "source": [
    "nltk.download('punkt')\n",
    "words = nltk.word_tokenize(raw)"
   ]
  },
  {
   "cell_type": "code",
   "execution_count": 7,
   "metadata": {},
   "outputs": [
    {
     "name": "stdout",
     "output_type": "stream",
     "text": [
      "the; 1009\n",
      "''; 975\n",
      "``; 403\n",
      "and; 304\n",
      "on; 304\n",
      "in; 290\n",
      "of; 278\n",
      "from; 277\n",
      "to; 224\n",
      "avengers; 223\n",
      "retrieved; 216\n",
      "original; 215\n",
      "archived; 213\n",
      "april; 206\n",
      "endgame; 186\n",
      "'s; 170\n",
      "film; 163\n",
      "as; 139\n",
      "may; 134\n",
      "for; 117\n",
      "with; 97\n",
      "marvel; 96\n",
      "was; 86\n",
      "'avengers; 84\n",
      "war; 81\n",
      "that; 80\n",
      "films; 78\n",
      "million; 77\n",
      "infinity; 73\n",
      ".mw-parser-output; 73\n"
     ]
    }
   ],
   "source": [
    "words = [word for word in words if len(word) > 1]\n",
    "\n",
    "# Removing any numbers present in our text\n",
    "\n",
    "words = [word for word in words if not word.isnumeric()]\n",
    "\n",
    "# Lowercase all words (default_stopwords are lowercase too)\n",
    "\n",
    "words = [word.lower() for word in words]\n",
    "\n",
    "# Calculating frequency distribution\n",
    "\n",
    "fdist = nltk.FreqDist(words)\n",
    "\n",
    "# Printing the top 30 words with their frequency\n",
    "\n",
    "for word, frequency in fdist.most_common(30):\n",
    "    print(u'{}; {}'.format(word, frequency))"
   ]
  },
  {
   "cell_type": "code",
   "execution_count": null,
   "metadata": {},
   "outputs": [],
   "source": []
  }
 ],
 "metadata": {
  "kernelspec": {
   "display_name": "Python 3",
   "language": "python",
   "name": "python3"
  }
 },
 "nbformat": 4,
 "nbformat_minor": 4
}
